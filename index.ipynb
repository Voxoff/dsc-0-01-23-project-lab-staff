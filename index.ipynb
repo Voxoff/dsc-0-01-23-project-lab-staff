{
 "cells": [
  {
   "cell_type": "markdown",
   "metadata": {},
   "source": [
    "# Project: Analyzing Macbeth"
   ]
  },
  {
   "cell_type": "markdown",
   "metadata": {},
   "source": [
    "## Introduction\n",
    "For our first day and first data science project, we're going to do some rudimentry analysis of Shakespeare's classic play: Macbeth! You will get practice working with lists, condtionals and dictionaries, visualizing data, and thinking analytically about data."
   ]
  },
  {
   "cell_type": "markdown",
   "metadata": {},
   "source": [
    "## Objectives\n",
    "You will be able to:\n",
    "* Show mastery of the content covered in this section"
   ]
  },
  {
   "cell_type": "markdown",
   "metadata": {},
   "source": [
    "### Getting the Data\n",
    "Here we start by importing a python package and using it to pull the transcript of Macbeth from the project Gutenberg website. We also preview a few details about what is now stored in the variable macbeth; it's a string with 119,846 characters, the first 500 of which are printed below. "
   ]
  },
  {
   "cell_type": "code",
   "execution_count": 2,
   "metadata": {},
   "outputs": [
    {
     "name": "stdout",
     "output_type": "stream",
     "text": [
      "<class 'str'>\n",
      "3294\n",
      "<!DOCTYPE HTML PUBLIC \"-//W3C//DTD HTML 4.0 Transitional//EN\"\n",
      "\t  \"http://www.w3.org/TR/REC-html40/loose.dtd\">\n",
      "\n",
      "<html lang=\"en\" dir=\"ltr\">\n",
      "  <HEAD>\n",
      "    <META HTTP-EQUIV=\"Content-Type\" CONTENT=\"text/html; charset=iso-8859-1\">\n",
      "    <TITLE>German addresses are blocked - www.gutenberg.org\n",
      "    </TITLE>\n",
      "    <meta charset=\"UTF-8\" />\n",
      "    <link rel=\"shortcut icon\" href=\"/favicon.ico\" />\n",
      "  </HEAD>\n",
      "  <body>\n",
      "\n",
      "<font color=\"red\">    \n",
      "  <h1 align=\"center\">Your IP Address in Germany is Blocked from www.gutenberg.\n"
     ]
    }
   ],
   "source": [
    "import requests\n",
    "macbeth = requests.get('http://www.gutenberg.org/cache/epub/2264/pg2264.txt').text\n",
    "\n",
    "print(type(macbeth))\n",
    "print(len(macbeth))\n",
    "print(macbeth[:500])"
   ]
  },
  {
   "cell_type": "markdown",
   "metadata": {},
   "source": [
    "### Your Task\n",
    "\n",
    "Your task is to create a bar graph of the 25 most common words in the Shakespeare's Macbeth.  \n",
    "\n",
    "\n",
    "A common python programming pattern to counting objects, produce histograms, or update statistics is to make calls to a dictionary as you iterate through a list. For example, given a list of words, you can create a dictionary to store counts and then iterate through the list of words, checking how many times each word has appeared using your dictionary, and updating the dictionary count now that you've seen that word again. The `dictionary.get()` method is very useful in doing this. Read the docstring for the dictionary.get() method and use it along with the pseudocode above to create a bar graph of the 25 most common words from the transcript of Macbeth which has been loaded into a variable 'Macbeth'. Be sure to include a title and appropriate labels for your graph."
   ]
  },
  {
   "cell_type": "code",
   "execution_count": 3,
   "metadata": {},
   "outputs": [
    {
     "name": "stdout",
     "output_type": "stream",
     "text": [
      "<!DOCTYPE HTML PUBLIC \"-//W3C//DTD HTML 4.0 Transitional//EN\"\n",
      "\t  \"http://www.w3.org/TR/REC-html40/loose.dtd\">\n",
      "\n",
      "<html lang=\"en\" dir=\"ltr\">\n",
      "  <HEAD>\n",
      "    <META HTTP-EQUIV=\"Content-Type\" CONTENT=\"text/html; charset=iso-8859-1\">\n",
      "    <TITLE>German addresses are blocked - www.gutenberg.org\n",
      "    </TITLE>\n",
      "    <meta charset=\"UTF-8\" />\n",
      "    <link rel=\"shortcut icon\" href=\"/favicon.ico\" />\n",
      "  </HEAD>\n",
      "  <body>\n",
      "\n",
      "<font color=\"red\">    \n",
      "  <h1 align=\"center\">Your IP Address in Germany is Blocked from www.gutenberg.org</h1>\n",
      "</font>\n",
      "\n",
      "  <p>We apologize for this inconvenience.  Your IP address has been automatically blocked from accessing the Project Gutenberg website, www.gutenberg.org.  This is because the geoIP database shows your address is in the country of Germany.</p>\n",
      "\n",
      "  <h2>Diagnostic information:</h2>\n",
      "    <code>\n",
      "      <p>\n",
      "\tBlocked at germany.shtml<br />\n",
      "\tYour IP address: 167.99.128.244<br />\n",
      "\tReferrer URL (if available): (none)<br />\n",
      "\tBrowser: python-requests/2.19.1<br />\n",
      "\tDate:  Monday, 25-Mar-2019 15:30:15 GMT</p>\n",
      "</code>\n",
      "  \n",
      "<h2>Why did this block occur?</h2>\n",
      "<p>A Court in Germany ordered that access to certain items in the Project Gutenberg collection are blocked from Germany. Project Gutenberg believes the Court has no jurisdiction over the matter, but until the issue is resolved, it will comply.</p>\n",
      "\n",
      "<p>For more information about the German court case, and the reason for blocking all of Germany rather than single items, visit <a href=\"https://cand.pglaf.org/germany/index.html\">PGLAF's information page about the German lawsuit</a>.\n",
      "\n",
      "<p>For more information about the legal advice Project Gutenberg has received concerning international issues, visit <a href=\"https://cand.pglaf.org/index.html\">PGLAF's International Copyright Guidance for Project Gutenberg</a>\n",
      "  \n",
      "  <h2>How can I get unblocked?</h2>\n",
      "\n",
      "<p>All IP addresses in Germany are blocked.  This block will remain in place until legal guidance changes.\n",
      "</p>\n",
      "\n",
      "<h2>If your IP address lookup is incorrect</h2>\n",
      "\n",
      "<p>Use the <a href=\"https://www.maxmind.com/en/geoip-demo\">Maxmind GeoIP demo</a> to verify status of your IP address.  Project Gutenberg updates its listing of IP addresses approximately monthly.</p>\n",
      "\n",
      "<p>Occasionally, the website mis-applies a block from a previous visitor. Because blocks are applied momentarily, you should try again later to visit <a href=\"https://www.gutenberg.org\">https://www.gutenberg.org</a> if Maxmind shows your address as being outside of Germany.<p>\n",
      "\n",
      "<p>If your IP address is shown by Maxmind to be outside of Germany and you were momentarily blocked, another issue is that some Web browsers erroneously cache the block.  Trying a different Web browser might help.  Or, clearing the history of your visits to the site.</p>\n",
      "\n",
      "<h2>I have other questions or need to report an error</h2>\n",
      "\n",
      "   <p>Please email the diagnostic information above to <pre>help2019 @ pglaf.org</pre> (removing the spaces around the @) and we will try to help.  The software we use sometimes flags \"false positives\" -- that is, blocks that should not have occurred.  Apologies if this happened, because human users outside of Germany who are making use of the eBooks or other site features should almost never be blocked.</p>\n",
      "\n",
      "     <hr />\n",
      "  <p><i>Most recently updated: February 23, 2019.</i></p>\n",
      "\n",
      "  </body>\n",
      "</html>\n",
      "\n"
     ]
    },
    {
     "ename": "IndexError",
     "evalue": "list index out of range",
     "output_type": "error",
     "traceback": [
      "\u001b[0;31m\u001b[0m",
      "\u001b[0;31mIndexError\u001b[0mTraceback (most recent call last)",
      "\u001b[0;32m<ipython-input-3-05ffea23f064>\u001b[0m in \u001b[0;36m<module>\u001b[0;34m()\u001b[0m\n\u001b[1;32m      7\u001b[0m \u001b[0mmacbeth\u001b[0m \u001b[0;34m=\u001b[0m \u001b[0mrequests\u001b[0m\u001b[0;34m.\u001b[0m\u001b[0mget\u001b[0m\u001b[0;34m(\u001b[0m\u001b[0;34m'http://www.gutenberg.org/cache/epub/2264/pg2264.txt'\u001b[0m\u001b[0;34m)\u001b[0m\u001b[0;34m.\u001b[0m\u001b[0mtext\u001b[0m\u001b[0;34m\u001b[0m\u001b[0m\n\u001b[1;32m      8\u001b[0m \u001b[0mprint\u001b[0m\u001b[0;34m(\u001b[0m\u001b[0mmacbeth\u001b[0m\u001b[0;34m)\u001b[0m\u001b[0;34m\u001b[0m\u001b[0m\n\u001b[0;32m----> 9\u001b[0;31m \u001b[0mmacbeth\u001b[0m \u001b[0;34m=\u001b[0m \u001b[0mmacbeth\u001b[0m\u001b[0;34m.\u001b[0m\u001b[0msplit\u001b[0m\u001b[0;34m(\u001b[0m\u001b[0;34m\"I hope that you enjoy\"\u001b[0m\u001b[0;34m)\u001b[0m\u001b[0;34m[\u001b[0m\u001b[0;36m1\u001b[0m\u001b[0;34m]\u001b[0m\u001b[0;34m\u001b[0m\u001b[0m\n\u001b[0m\u001b[1;32m     10\u001b[0m \u001b[0;34m\u001b[0m\u001b[0m\n\u001b[1;32m     11\u001b[0m \u001b[0mmacbeth\u001b[0m \u001b[0;34m=\u001b[0m \u001b[0mre\u001b[0m\u001b[0;34m.\u001b[0m\u001b[0msub\u001b[0m\u001b[0;34m(\u001b[0m\u001b[0;34m\"\\,|\\!|\\.|\\?|:|\\;\"\u001b[0m\u001b[0;34m,\u001b[0m \u001b[0;34m\"\"\u001b[0m\u001b[0;34m,\u001b[0m \u001b[0mmacbeth\u001b[0m\u001b[0;34m)\u001b[0m\u001b[0;34m\u001b[0m\u001b[0m\n",
      "\u001b[0;31mIndexError\u001b[0m: list index out of range"
     ]
    }
   ],
   "source": [
    "import re\n",
    "import requests\n",
    "import matplotlib\n",
    "matplotlib.use('TkAgg')\n",
    "import matplotlib.pyplot as plt\n",
    "import numpy as np\n",
    "import operator\n",
    "\n",
    "# %matplotlib inline\n",
    "macbeth = requests.get('http://www.gutenberg.org/cache/epub/2264/pg2264.txt').text\n",
    "print(macbeth)\n",
    "macbeth = macbeth.split(\"I hope that you enjoy\")[1]\n",
    "\n",
    "macbeth = re.sub(\"\\,|\\!|\\.|\\?|:|\\;\", \"\", macbeth)\n",
    "macbeth = re.sub(\"\\n|\\r\", \" \", macbeth)\n",
    "macbeth = re.sub(\"\\s{2,}\", \" \", macbeth)\n",
    "macbeth_array = macbeth.split(' ')\n",
    "\n",
    "dictionary = {}\n",
    "for word in macbeth_array:\n",
    "    if word in dictionary:\n",
    "        dictionary[word] += 1\n",
    "    else:\n",
    "        dictionary[word] = 1\n",
    "\n",
    "        \n",
    "#only the words used over 40. convert to utf\n",
    "dictionary = {k.encode('utf-8'):v for k,v in dictionary.items() if v > 40}\n",
    "dictionary = sorted(dictionary.items(), key=operator.itemgetter(1))\n",
    "\n",
    "y = dictionary.values()\n",
    "\n",
    "w = 3\n",
    "nitems = len(y)\n",
    "x_axis = np.arange(0, nitems*w, w)    # set up a array of x-coordinates\n",
    "\n",
    "\n",
    "fig, ax = plt.subplots(1)\n",
    "ax.bar(x_axis, y, width=w, align='center')\n",
    "ax.set_xticks(x_axis);\n",
    "ax.set_xticklabels(dictionary.keys(), rotation=90);\n",
    "plt.figure(figsize=(15,12))\n",
    "plt.show()\n",
    "\n",
    "# Pseudo-code Outline\n",
    "# Split the transcript into words\n",
    "# Create a dictionary\n",
    "# Iterate through the text of Macbeth\n",
    "# Update word counts\n",
    "# Create Bar Graph\n",
    "# Include descriptive titles and labels"
   ]
  },
  {
   "cell_type": "markdown",
   "metadata": {},
   "source": [
    "### Level Up (Optional)\n",
    "This project should take you about an hour and a half to complete. If you're done much more quickly than that and are not behind in the course, feel free to deepen your knowledge by completing any or all of the following tasks until you run out of time:\n",
    "* Create a list of top characters by mentions of their names \n",
    "* Split the text by which character is talking\n",
    "* Create sub graphs of the most common words by character\n",
    "* Reduce the string to the text of the play itself. (Remove any initial notes, forward, introduction, appendix, etc.)\n",
    "* Come up with some other fun analyses of the text!"
   ]
  },
  {
   "cell_type": "markdown",
   "metadata": {},
   "source": [
    "## Summary\n",
    "Congratulations! You've got some extra practice combining various data types into useful programming patterns and done an intitial analysis of a classic text!"
   ]
  }
 ],
 "metadata": {
  "kernelspec": {
   "display_name": "Python 3",
   "language": "python",
   "name": "python3"
  },
  "language_info": {
   "codemirror_mode": {
    "name": "ipython",
    "version": 3
   },
   "file_extension": ".py",
   "mimetype": "text/x-python",
   "name": "python",
   "nbconvert_exporter": "python",
   "pygments_lexer": "ipython3",
   "version": "3.6.6"
  }
 },
 "nbformat": 4,
 "nbformat_minor": 2
}
